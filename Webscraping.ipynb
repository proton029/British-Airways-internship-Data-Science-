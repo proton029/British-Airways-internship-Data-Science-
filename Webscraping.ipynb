{
 "cells": [
  {
   "cell_type": "code",
   "execution_count": 1,
   "id": "7806c897",
   "metadata": {},
   "outputs": [],
   "source": [
    "import requests\n",
    "from bs4 import BeautifulSoup"
   ]
  },
  {
   "cell_type": "code",
   "execution_count": 2,
   "id": "f6b24e8a",
   "metadata": {},
   "outputs": [],
   "source": [
    "result = requests.get(\"https://www.airlinequality.com/airline-reviews/british-airways\")"
   ]
  },
  {
   "cell_type": "code",
   "execution_count": 3,
   "id": "a93710c4",
   "metadata": {},
   "outputs": [
    {
     "data": {
      "text/plain": [
       "requests.models.Response"
      ]
     },
     "execution_count": 3,
     "metadata": {},
     "output_type": "execute_result"
    }
   ],
   "source": [
    "type(result)"
   ]
  },
  {
   "cell_type": "code",
   "execution_count": 8,
   "id": "3482aabb",
   "metadata": {},
   "outputs": [],
   "source": [
    "#result.text"
   ]
  },
  {
   "cell_type": "code",
   "execution_count": 5,
   "id": "fc3579b1",
   "metadata": {},
   "outputs": [],
   "source": [
    "soup = BeautifulSoup(result.text,\"lxml\")"
   ]
  },
  {
   "cell_type": "code",
   "execution_count": 9,
   "id": "40b87d57",
   "metadata": {},
   "outputs": [],
   "source": [
    "#soup"
   ]
  },
  {
   "cell_type": "code",
   "execution_count": 7,
   "id": "da58371c",
   "metadata": {},
   "outputs": [
    {
     "data": {
      "text/plain": [
       "'British Airways Customer Reviews - SKYTRAX'"
      ]
     },
     "execution_count": 7,
     "metadata": {},
     "output_type": "execute_result"
    }
   ],
   "source": [
    "soup.select('title')[0].getText()"
   ]
  },
  {
   "cell_type": "code",
   "execution_count": 8,
   "id": "0ed01c37",
   "metadata": {},
   "outputs": [
    {
     "name": "stdout",
     "output_type": "stream",
     "text": [
      "Scraping pages 1 of 10\n",
      "   ---> 100 total reviews\n",
      "Scraping pages 2 of 10\n",
      "   ---> 200 total reviews\n",
      "Scraping pages 3 of 10\n",
      "   ---> 300 total reviews\n",
      "Scraping pages 4 of 10\n",
      "   ---> 400 total reviews\n",
      "Scraping pages 5 of 10\n",
      "   ---> 500 total reviews\n",
      "Scraping pages 6 of 10\n",
      "   ---> 600 total reviews\n",
      "Scraping pages 7 of 10\n",
      "   ---> 700 total reviews\n",
      "Scraping pages 8 of 10\n",
      "   ---> 800 total reviews\n",
      "Scraping pages 9 of 10\n",
      "   ---> 900 total reviews\n",
      "Scraping pages 10 of 10\n",
      "   ---> 1000 total reviews\n"
     ]
    }
   ],
   "source": [
    "base_url = \"https://www.airlinequality.com/airline-reviews/british-airways\"\n",
    "pages = 10\n",
    "page_size = 100\n",
    "\n",
    "reviews = []\n",
    "for i in range(1, pages+1):\n",
    "    print(f'Scraping pages {i} of 10')\n",
    "    # Create URL to collect links from paginated data\n",
    "    url = f\"{base_url}/page/{i}/?sortby=post_date%3ADesc&pagesize={page_size}\"\n",
    "    response = requests.get(url)\n",
    "    \n",
    "    #parsing the content\n",
    "    content = response.content\n",
    "    parsed_content = BeautifulSoup(content,'html.parser')\n",
    "    #finding all divs and fetching the strings\n",
    "    for divs in parsed_content.find_all(\"div\", {\"class\": \"text_content\"}):\n",
    "        reviews.append(divs.get_text())\n",
    "        \n",
    "    print(f\"   ---> {len(reviews)} total reviews\")\n",
    "    \n",
    "    "
   ]
  },
  {
   "cell_type": "code",
   "execution_count": 9,
   "id": "e6fa39a7",
   "metadata": {},
   "outputs": [],
   "source": [
    "#reviews"
   ]
  },
  {
   "cell_type": "code",
   "execution_count": 10,
   "id": "66f62327",
   "metadata": {},
   "outputs": [],
   "source": [
    "import pandas as pd"
   ]
  },
  {
   "cell_type": "code",
   "execution_count": 11,
   "id": "6d376572",
   "metadata": {},
   "outputs": [],
   "source": [
    "df = pd.DataFrame()"
   ]
  },
  {
   "cell_type": "code",
   "execution_count": 12,
   "id": "b49c9460",
   "metadata": {},
   "outputs": [],
   "source": [
    "df[\"Reviews\"] = reviews"
   ]
  },
  {
   "cell_type": "code",
   "execution_count": 13,
   "id": "91abd673",
   "metadata": {},
   "outputs": [
    {
     "data": {
      "text/html": [
       "<div>\n",
       "<style scoped>\n",
       "    .dataframe tbody tr th:only-of-type {\n",
       "        vertical-align: middle;\n",
       "    }\n",
       "\n",
       "    .dataframe tbody tr th {\n",
       "        vertical-align: top;\n",
       "    }\n",
       "\n",
       "    .dataframe thead th {\n",
       "        text-align: right;\n",
       "    }\n",
       "</style>\n",
       "<table border=\"1\" class=\"dataframe\">\n",
       "  <thead>\n",
       "    <tr style=\"text-align: right;\">\n",
       "      <th></th>\n",
       "      <th>Reviews</th>\n",
       "    </tr>\n",
       "  </thead>\n",
       "  <tbody>\n",
       "    <tr>\n",
       "      <th>0</th>\n",
       "      <td>✅ Trip Verified |  I was pleasantly surprised ...</td>\n",
       "    </tr>\n",
       "    <tr>\n",
       "      <th>1</th>\n",
       "      <td>✅ Trip Verified |  British Airways is late, th...</td>\n",
       "    </tr>\n",
       "    <tr>\n",
       "      <th>2</th>\n",
       "      <td>✅ Trip Verified | Flew from Amman to London on...</td>\n",
       "    </tr>\n",
       "    <tr>\n",
       "      <th>3</th>\n",
       "      <td>✅ Trip Verified | This is the worst experience...</td>\n",
       "    </tr>\n",
       "    <tr>\n",
       "      <th>4</th>\n",
       "      <td>✅ Trip Verified |  Flying LHR T5 to CPT Novemb...</td>\n",
       "    </tr>\n",
       "  </tbody>\n",
       "</table>\n",
       "</div>"
      ],
      "text/plain": [
       "                                             Reviews\n",
       "0  ✅ Trip Verified |  I was pleasantly surprised ...\n",
       "1  ✅ Trip Verified |  British Airways is late, th...\n",
       "2  ✅ Trip Verified | Flew from Amman to London on...\n",
       "3  ✅ Trip Verified | This is the worst experience...\n",
       "4  ✅ Trip Verified |  Flying LHR T5 to CPT Novemb..."
      ]
     },
     "execution_count": 13,
     "metadata": {},
     "output_type": "execute_result"
    }
   ],
   "source": [
    "df.head()"
   ]
  },
  {
   "cell_type": "code",
   "execution_count": 14,
   "id": "95c75948",
   "metadata": {},
   "outputs": [],
   "source": [
    "df.to_csv(\"Reviews.csv\")"
   ]
  },
  {
   "cell_type": "markdown",
   "id": "61766c5d",
   "metadata": {},
   "source": [
    "## Now we have our data set , lets work on it now"
   ]
  },
  {
   "cell_type": "code",
   "execution_count": 98,
   "id": "5fbbadf1",
   "metadata": {},
   "outputs": [],
   "source": [
    "df= pd.read_csv(\"Reviews.csv\")"
   ]
  },
  {
   "cell_type": "code",
   "execution_count": 99,
   "id": "bf96b6c5",
   "metadata": {},
   "outputs": [
    {
     "data": {
      "text/html": [
       "<div>\n",
       "<style scoped>\n",
       "    .dataframe tbody tr th:only-of-type {\n",
       "        vertical-align: middle;\n",
       "    }\n",
       "\n",
       "    .dataframe tbody tr th {\n",
       "        vertical-align: top;\n",
       "    }\n",
       "\n",
       "    .dataframe thead th {\n",
       "        text-align: right;\n",
       "    }\n",
       "</style>\n",
       "<table border=\"1\" class=\"dataframe\">\n",
       "  <thead>\n",
       "    <tr style=\"text-align: right;\">\n",
       "      <th></th>\n",
       "      <th>Unnamed: 0</th>\n",
       "      <th>Reviews</th>\n",
       "    </tr>\n",
       "  </thead>\n",
       "  <tbody>\n",
       "    <tr>\n",
       "      <th>0</th>\n",
       "      <td>0</td>\n",
       "      <td>✅ Trip Verified |  I was pleasantly surprised ...</td>\n",
       "    </tr>\n",
       "    <tr>\n",
       "      <th>1</th>\n",
       "      <td>1</td>\n",
       "      <td>✅ Trip Verified |  British Airways is late, th...</td>\n",
       "    </tr>\n",
       "    <tr>\n",
       "      <th>2</th>\n",
       "      <td>2</td>\n",
       "      <td>✅ Trip Verified | Flew from Amman to London on...</td>\n",
       "    </tr>\n",
       "    <tr>\n",
       "      <th>3</th>\n",
       "      <td>3</td>\n",
       "      <td>✅ Trip Verified | This is the worst experience...</td>\n",
       "    </tr>\n",
       "    <tr>\n",
       "      <th>4</th>\n",
       "      <td>4</td>\n",
       "      <td>✅ Trip Verified |  Flying LHR T5 to CPT Novemb...</td>\n",
       "    </tr>\n",
       "  </tbody>\n",
       "</table>\n",
       "</div>"
      ],
      "text/plain": [
       "   Unnamed: 0                                            Reviews\n",
       "0           0  ✅ Trip Verified |  I was pleasantly surprised ...\n",
       "1           1  ✅ Trip Verified |  British Airways is late, th...\n",
       "2           2  ✅ Trip Verified | Flew from Amman to London on...\n",
       "3           3  ✅ Trip Verified | This is the worst experience...\n",
       "4           4  ✅ Trip Verified |  Flying LHR T5 to CPT Novemb..."
      ]
     },
     "execution_count": 99,
     "metadata": {},
     "output_type": "execute_result"
    }
   ],
   "source": [
    "df.head()"
   ]
  },
  {
   "cell_type": "code",
   "execution_count": 100,
   "id": "4e0ee53b",
   "metadata": {},
   "outputs": [
    {
     "data": {
      "text/plain": [
       "Index(['Unnamed: 0', 'Reviews'], dtype='object')"
      ]
     },
     "execution_count": 100,
     "metadata": {},
     "output_type": "execute_result"
    }
   ],
   "source": [
    "df.columns"
   ]
  },
  {
   "cell_type": "code",
   "execution_count": 101,
   "id": "66851237",
   "metadata": {},
   "outputs": [],
   "source": [
    "df=df.drop(\"Unnamed: 0\",axis=1)"
   ]
  },
  {
   "cell_type": "code",
   "execution_count": 102,
   "id": "0071f618",
   "metadata": {},
   "outputs": [
    {
     "data": {
      "text/html": [
       "<div>\n",
       "<style scoped>\n",
       "    .dataframe tbody tr th:only-of-type {\n",
       "        vertical-align: middle;\n",
       "    }\n",
       "\n",
       "    .dataframe tbody tr th {\n",
       "        vertical-align: top;\n",
       "    }\n",
       "\n",
       "    .dataframe thead th {\n",
       "        text-align: right;\n",
       "    }\n",
       "</style>\n",
       "<table border=\"1\" class=\"dataframe\">\n",
       "  <thead>\n",
       "    <tr style=\"text-align: right;\">\n",
       "      <th></th>\n",
       "      <th>Reviews</th>\n",
       "    </tr>\n",
       "  </thead>\n",
       "  <tbody>\n",
       "    <tr>\n",
       "      <th>0</th>\n",
       "      <td>✅ Trip Verified |  I was pleasantly surprised ...</td>\n",
       "    </tr>\n",
       "    <tr>\n",
       "      <th>1</th>\n",
       "      <td>✅ Trip Verified |  British Airways is late, th...</td>\n",
       "    </tr>\n",
       "    <tr>\n",
       "      <th>2</th>\n",
       "      <td>✅ Trip Verified | Flew from Amman to London on...</td>\n",
       "    </tr>\n",
       "    <tr>\n",
       "      <th>3</th>\n",
       "      <td>✅ Trip Verified | This is the worst experience...</td>\n",
       "    </tr>\n",
       "    <tr>\n",
       "      <th>4</th>\n",
       "      <td>✅ Trip Verified |  Flying LHR T5 to CPT Novemb...</td>\n",
       "    </tr>\n",
       "  </tbody>\n",
       "</table>\n",
       "</div>"
      ],
      "text/plain": [
       "                                             Reviews\n",
       "0  ✅ Trip Verified |  I was pleasantly surprised ...\n",
       "1  ✅ Trip Verified |  British Airways is late, th...\n",
       "2  ✅ Trip Verified | Flew from Amman to London on...\n",
       "3  ✅ Trip Verified | This is the worst experience...\n",
       "4  ✅ Trip Verified |  Flying LHR T5 to CPT Novemb..."
      ]
     },
     "execution_count": 102,
     "metadata": {},
     "output_type": "execute_result"
    }
   ],
   "source": [
    "df.head()"
   ]
  },
  {
   "cell_type": "code",
   "execution_count": 103,
   "id": "beadc03c",
   "metadata": {},
   "outputs": [
    {
     "data": {
      "text/plain": [
       "Reviews    0\n",
       "dtype: int64"
      ]
     },
     "execution_count": 103,
     "metadata": {},
     "output_type": "execute_result"
    }
   ],
   "source": [
    "df.isnull().sum()"
   ]
  },
  {
   "cell_type": "code",
   "execution_count": 104,
   "id": "4917cc36",
   "metadata": {},
   "outputs": [
    {
     "name": "stdout",
     "output_type": "stream",
     "text": [
      "<class 'pandas.core.frame.DataFrame'>\n",
      "RangeIndex: 1000 entries, 0 to 999\n",
      "Data columns (total 1 columns):\n",
      " #   Column   Non-Null Count  Dtype \n",
      "---  ------   --------------  ----- \n",
      " 0   Reviews  1000 non-null   object\n",
      "dtypes: object(1)\n",
      "memory usage: 7.9+ KB\n"
     ]
    }
   ],
   "source": [
    "df.info()"
   ]
  },
  {
   "cell_type": "code",
   "execution_count": 10,
   "id": "36e208af",
   "metadata": {},
   "outputs": [],
   "source": [
    "#df['Reviews'].str.split('|')[993]"
   ]
  },
  {
   "cell_type": "markdown",
   "id": "8a91e88a",
   "metadata": {},
   "source": [
    "### Removing this row as it is not showing any information about verified or not"
   ]
  },
  {
   "cell_type": "code",
   "execution_count": 106,
   "id": "30371417",
   "metadata": {},
   "outputs": [],
   "source": [
    "df=df.drop([993],axis=0) "
   ]
  },
  {
   "cell_type": "code",
   "execution_count": 107,
   "id": "15b897b9",
   "metadata": {},
   "outputs": [],
   "source": [
    "df=df.drop([994],axis=0)"
   ]
  },
  {
   "cell_type": "code",
   "execution_count": 108,
   "id": "40904c50",
   "metadata": {},
   "outputs": [],
   "source": [
    "df=df.reset_index()"
   ]
  },
  {
   "cell_type": "code",
   "execution_count": 109,
   "id": "ebb44325",
   "metadata": {},
   "outputs": [],
   "source": [
    "df = df.drop('index',axis=1)"
   ]
  },
  {
   "cell_type": "code",
   "execution_count": 110,
   "id": "f4be2661",
   "metadata": {},
   "outputs": [
    {
     "data": {
      "text/html": [
       "<div>\n",
       "<style scoped>\n",
       "    .dataframe tbody tr th:only-of-type {\n",
       "        vertical-align: middle;\n",
       "    }\n",
       "\n",
       "    .dataframe tbody tr th {\n",
       "        vertical-align: top;\n",
       "    }\n",
       "\n",
       "    .dataframe thead th {\n",
       "        text-align: right;\n",
       "    }\n",
       "</style>\n",
       "<table border=\"1\" class=\"dataframe\">\n",
       "  <thead>\n",
       "    <tr style=\"text-align: right;\">\n",
       "      <th></th>\n",
       "      <th>Reviews</th>\n",
       "    </tr>\n",
       "  </thead>\n",
       "  <tbody>\n",
       "    <tr>\n",
       "      <th>988</th>\n",
       "      <td>✅ Trip Verified |  Worst business class I flew...</td>\n",
       "    </tr>\n",
       "    <tr>\n",
       "      <th>989</th>\n",
       "      <td>✅ Trip Verified |  Beijing to London. Service ...</td>\n",
       "    </tr>\n",
       "    <tr>\n",
       "      <th>990</th>\n",
       "      <td>✅ Trip Verified |  London to Beijing. Left fro...</td>\n",
       "    </tr>\n",
       "    <tr>\n",
       "      <th>991</th>\n",
       "      <td>✅ Trip Verified |  Bangkok to London. The wors...</td>\n",
       "    </tr>\n",
       "    <tr>\n",
       "      <th>992</th>\n",
       "      <td>✅ Trip Verified | Food on this 4+ hours flight...</td>\n",
       "    </tr>\n",
       "    <tr>\n",
       "      <th>993</th>\n",
       "      <td>✅ Trip Verified | London to Belfast. Another r...</td>\n",
       "    </tr>\n",
       "    <tr>\n",
       "      <th>994</th>\n",
       "      <td>✅ Trip Verified | Very full flight on G-BNLP/B...</td>\n",
       "    </tr>\n",
       "    <tr>\n",
       "      <th>995</th>\n",
       "      <td>✅ Trip Verified | Warsaw to London. WAW is not...</td>\n",
       "    </tr>\n",
       "    <tr>\n",
       "      <th>996</th>\n",
       "      <td>✅ Trip Verified |  I booked my flight with Cat...</td>\n",
       "    </tr>\n",
       "    <tr>\n",
       "      <th>997</th>\n",
       "      <td>✅ Trip Verified | Flew British Airways from Li...</td>\n",
       "    </tr>\n",
       "  </tbody>\n",
       "</table>\n",
       "</div>"
      ],
      "text/plain": [
       "                                               Reviews\n",
       "988  ✅ Trip Verified |  Worst business class I flew...\n",
       "989  ✅ Trip Verified |  Beijing to London. Service ...\n",
       "990  ✅ Trip Verified |  London to Beijing. Left fro...\n",
       "991  ✅ Trip Verified |  Bangkok to London. The wors...\n",
       "992  ✅ Trip Verified | Food on this 4+ hours flight...\n",
       "993  ✅ Trip Verified | London to Belfast. Another r...\n",
       "994  ✅ Trip Verified | Very full flight on G-BNLP/B...\n",
       "995  ✅ Trip Verified | Warsaw to London. WAW is not...\n",
       "996  ✅ Trip Verified |  I booked my flight with Cat...\n",
       "997  ✅ Trip Verified | Flew British Airways from Li..."
      ]
     },
     "execution_count": 110,
     "metadata": {},
     "output_type": "execute_result"
    }
   ],
   "source": [
    "df.tail(10)"
   ]
  },
  {
   "cell_type": "code",
   "execution_count": 111,
   "id": "db63cb83",
   "metadata": {},
   "outputs": [
    {
     "data": {
      "text/html": [
       "<div>\n",
       "<style scoped>\n",
       "    .dataframe tbody tr th:only-of-type {\n",
       "        vertical-align: middle;\n",
       "    }\n",
       "\n",
       "    .dataframe tbody tr th {\n",
       "        vertical-align: top;\n",
       "    }\n",
       "\n",
       "    .dataframe thead th {\n",
       "        text-align: right;\n",
       "    }\n",
       "</style>\n",
       "<table border=\"1\" class=\"dataframe\">\n",
       "  <thead>\n",
       "    <tr style=\"text-align: right;\">\n",
       "      <th></th>\n",
       "      <th>Reviews</th>\n",
       "    </tr>\n",
       "  </thead>\n",
       "  <tbody>\n",
       "    <tr>\n",
       "      <th>0</th>\n",
       "      <td>✅ Trip Verified |  I was pleasantly surprised ...</td>\n",
       "    </tr>\n",
       "    <tr>\n",
       "      <th>1</th>\n",
       "      <td>✅ Trip Verified |  British Airways is late, th...</td>\n",
       "    </tr>\n",
       "    <tr>\n",
       "      <th>2</th>\n",
       "      <td>✅ Trip Verified | Flew from Amman to London on...</td>\n",
       "    </tr>\n",
       "    <tr>\n",
       "      <th>3</th>\n",
       "      <td>✅ Trip Verified | This is the worst experience...</td>\n",
       "    </tr>\n",
       "    <tr>\n",
       "      <th>4</th>\n",
       "      <td>✅ Trip Verified |  Flying LHR T5 to CPT Novemb...</td>\n",
       "    </tr>\n",
       "    <tr>\n",
       "      <th>5</th>\n",
       "      <td>Not Verified | Worst experience ever. Outbound...</td>\n",
       "    </tr>\n",
       "    <tr>\n",
       "      <th>6</th>\n",
       "      <td>✅ Trip Verified |  Check in was a shambles at ...</td>\n",
       "    </tr>\n",
       "    <tr>\n",
       "      <th>7</th>\n",
       "      <td>✅ Trip Verified | Beyond disgusted with the fa...</td>\n",
       "    </tr>\n",
       "    <tr>\n",
       "      <th>8</th>\n",
       "      <td>✅ Trip Verified | On July 19th 2022 I had subm...</td>\n",
       "    </tr>\n",
       "    <tr>\n",
       "      <th>9</th>\n",
       "      <td>✅ Trip Verified |  I booked the flight on Oct ...</td>\n",
       "    </tr>\n",
       "  </tbody>\n",
       "</table>\n",
       "</div>"
      ],
      "text/plain": [
       "                                             Reviews\n",
       "0  ✅ Trip Verified |  I was pleasantly surprised ...\n",
       "1  ✅ Trip Verified |  British Airways is late, th...\n",
       "2  ✅ Trip Verified | Flew from Amman to London on...\n",
       "3  ✅ Trip Verified | This is the worst experience...\n",
       "4  ✅ Trip Verified |  Flying LHR T5 to CPT Novemb...\n",
       "5  Not Verified | Worst experience ever. Outbound...\n",
       "6  ✅ Trip Verified |  Check in was a shambles at ...\n",
       "7  ✅ Trip Verified | Beyond disgusted with the fa...\n",
       "8  ✅ Trip Verified | On July 19th 2022 I had subm...\n",
       "9  ✅ Trip Verified |  I booked the flight on Oct ..."
      ]
     },
     "execution_count": 111,
     "metadata": {},
     "output_type": "execute_result"
    }
   ],
   "source": [
    "df.head(10)"
   ]
  },
  {
   "cell_type": "code",
   "execution_count": 114,
   "id": "98af0d93",
   "metadata": {},
   "outputs": [],
   "source": [
    "for i in range(len(df)):\n",
    "    df['Reviews'][i] = df['Reviews'].str.split('|')[i][1]"
   ]
  },
  {
   "cell_type": "code",
   "execution_count": 115,
   "id": "d3613a71",
   "metadata": {},
   "outputs": [
    {
     "data": {
      "text/html": [
       "<div>\n",
       "<style scoped>\n",
       "    .dataframe tbody tr th:only-of-type {\n",
       "        vertical-align: middle;\n",
       "    }\n",
       "\n",
       "    .dataframe tbody tr th {\n",
       "        vertical-align: top;\n",
       "    }\n",
       "\n",
       "    .dataframe thead th {\n",
       "        text-align: right;\n",
       "    }\n",
       "</style>\n",
       "<table border=\"1\" class=\"dataframe\">\n",
       "  <thead>\n",
       "    <tr style=\"text-align: right;\">\n",
       "      <th></th>\n",
       "      <th>Reviews</th>\n",
       "    </tr>\n",
       "  </thead>\n",
       "  <tbody>\n",
       "    <tr>\n",
       "      <th>0</th>\n",
       "      <td>I was pleasantly surprised that the airline ...</td>\n",
       "    </tr>\n",
       "    <tr>\n",
       "      <th>1</th>\n",
       "      <td>British Airways is late, their website is at...</td>\n",
       "    </tr>\n",
       "    <tr>\n",
       "      <th>2</th>\n",
       "      <td>Flew from Amman to London on Nov. 14 2022. No...</td>\n",
       "    </tr>\n",
       "    <tr>\n",
       "      <th>3</th>\n",
       "      <td>This is the worst experience I have ever had ...</td>\n",
       "    </tr>\n",
       "    <tr>\n",
       "      <th>4</th>\n",
       "      <td>Flying LHR T5 to CPT November 2022:  BA app ...</td>\n",
       "    </tr>\n",
       "  </tbody>\n",
       "</table>\n",
       "</div>"
      ],
      "text/plain": [
       "                                             Reviews\n",
       "0    I was pleasantly surprised that the airline ...\n",
       "1    British Airways is late, their website is at...\n",
       "2   Flew from Amman to London on Nov. 14 2022. No...\n",
       "3   This is the worst experience I have ever had ...\n",
       "4    Flying LHR T5 to CPT November 2022:  BA app ..."
      ]
     },
     "execution_count": 115,
     "metadata": {},
     "output_type": "execute_result"
    }
   ],
   "source": [
    "df.head()"
   ]
  },
  {
   "cell_type": "code",
   "execution_count": 116,
   "id": "cb6e0c22",
   "metadata": {},
   "outputs": [],
   "source": [
    "df.to_csv(\"Reviews.csv\")"
   ]
  },
  {
   "cell_type": "markdown",
   "id": "ff22011e",
   "metadata": {},
   "source": [
    "# TRYING WITH NLTK"
   ]
  },
  {
   "cell_type": "code",
   "execution_count": 20,
   "id": "fb5696f8",
   "metadata": {},
   "outputs": [
    {
     "name": "stdout",
     "output_type": "stream",
     "text": [
      "Collecting package metadata (current_repodata.json): done\n",
      "Solving environment: done\n",
      "\n",
      "# All requested packages already installed.\n",
      "\n",
      "Retrieving notices: ...working... done\n",
      "\n",
      "Note: you may need to restart the kernel to use updated packages.\n"
     ]
    }
   ],
   "source": [
    "#conda install nltk"
   ]
  },
  {
   "cell_type": "code",
   "execution_count": 1,
   "id": "83ed9843",
   "metadata": {},
   "outputs": [
    {
     "name": "stderr",
     "output_type": "stream",
     "text": [
      "[nltk_data] Downloading package punkt to /home/akhil/nltk_data...\n",
      "[nltk_data]   Package punkt is already up-to-date!\n"
     ]
    },
    {
     "data": {
      "text/plain": [
       "True"
      ]
     },
     "execution_count": 1,
     "metadata": {},
     "output_type": "execute_result"
    }
   ],
   "source": [
    "import pandas as pd\n",
    "import numpy as np\n",
    "import matplotlib.pyplot as plt\n",
    "plt.style.use(\"ggplot\")\n",
    "import seaborn as sns\n",
    "\n",
    "import nltk\n",
    "nltk.download('punkt')"
   ]
  },
  {
   "cell_type": "code",
   "execution_count": 2,
   "id": "c80e7776",
   "metadata": {},
   "outputs": [],
   "source": [
    "df = pd.read_csv('Reviews.csv')"
   ]
  },
  {
   "cell_type": "code",
   "execution_count": 3,
   "id": "8271df33",
   "metadata": {},
   "outputs": [],
   "source": [
    "df=df.drop('Unnamed: 0',axis=1)"
   ]
  },
  {
   "cell_type": "code",
   "execution_count": 4,
   "id": "d31305aa",
   "metadata": {},
   "outputs": [
    {
     "data": {
      "text/html": [
       "<div>\n",
       "<style scoped>\n",
       "    .dataframe tbody tr th:only-of-type {\n",
       "        vertical-align: middle;\n",
       "    }\n",
       "\n",
       "    .dataframe tbody tr th {\n",
       "        vertical-align: top;\n",
       "    }\n",
       "\n",
       "    .dataframe thead th {\n",
       "        text-align: right;\n",
       "    }\n",
       "</style>\n",
       "<table border=\"1\" class=\"dataframe\">\n",
       "  <thead>\n",
       "    <tr style=\"text-align: right;\">\n",
       "      <th></th>\n",
       "      <th>Reviews</th>\n",
       "    </tr>\n",
       "  </thead>\n",
       "  <tbody>\n",
       "    <tr>\n",
       "      <th>0</th>\n",
       "      <td>I was pleasantly surprised that the airline ...</td>\n",
       "    </tr>\n",
       "    <tr>\n",
       "      <th>1</th>\n",
       "      <td>British Airways is late, their website is at...</td>\n",
       "    </tr>\n",
       "    <tr>\n",
       "      <th>2</th>\n",
       "      <td>Flew from Amman to London on Nov. 14 2022. No...</td>\n",
       "    </tr>\n",
       "    <tr>\n",
       "      <th>3</th>\n",
       "      <td>This is the worst experience I have ever had ...</td>\n",
       "    </tr>\n",
       "    <tr>\n",
       "      <th>4</th>\n",
       "      <td>Flying LHR T5 to CPT November 2022:  BA app ...</td>\n",
       "    </tr>\n",
       "  </tbody>\n",
       "</table>\n",
       "</div>"
      ],
      "text/plain": [
       "                                             Reviews\n",
       "0    I was pleasantly surprised that the airline ...\n",
       "1    British Airways is late, their website is at...\n",
       "2   Flew from Amman to London on Nov. 14 2022. No...\n",
       "3   This is the worst experience I have ever had ...\n",
       "4    Flying LHR T5 to CPT November 2022:  BA app ..."
      ]
     },
     "execution_count": 4,
     "metadata": {},
     "output_type": "execute_result"
    }
   ],
   "source": [
    "df.head()"
   ]
  },
  {
   "cell_type": "code",
   "execution_count": 5,
   "id": "d4bc02cb",
   "metadata": {},
   "outputs": [
    {
     "data": {
      "text/plain": [
       "(998, 1)"
      ]
     },
     "execution_count": 5,
     "metadata": {},
     "output_type": "execute_result"
    }
   ],
   "source": [
    "df.shape"
   ]
  },
  {
   "cell_type": "markdown",
   "id": "14380c2b",
   "metadata": {},
   "source": [
    "## basic nltk stuff"
   ]
  },
  {
   "cell_type": "code",
   "execution_count": 6,
   "id": "b6aa06a1",
   "metadata": {},
   "outputs": [
    {
     "data": {
      "text/plain": [
       "'  I was pleasantly surprised that the airline could maintain a steady schedule with little delay considering the time of the year and the weather. The flight from Montreal was my return flight to Scotland, but I originally booked to fly to and from Toronto, but the airline helped me cancel and I rebooked for a cheaper flight. The inflight service was pretty decent andthey do offer a blanket and pillow. As well they walk through the cabin offering drinks and handing out a small snack prior to the leading meal service. While the food was typical air plane food. I thoroughly enjoyed my flight and had no issues at all with my flights.'"
      ]
     },
     "execution_count": 6,
     "metadata": {},
     "output_type": "execute_result"
    }
   ],
   "source": [
    "ex = df['Reviews'][0]\n",
    "ex"
   ]
  },
  {
   "cell_type": "code",
   "execution_count": 7,
   "id": "99a78ebc",
   "metadata": {},
   "outputs": [
    {
     "data": {
      "text/plain": [
       "['I',\n",
       " 'was',\n",
       " 'pleasantly',\n",
       " 'surprised',\n",
       " 'that',\n",
       " 'the',\n",
       " 'airline',\n",
       " 'could',\n",
       " 'maintain',\n",
       " 'a']"
      ]
     },
     "execution_count": 7,
     "metadata": {},
     "output_type": "execute_result"
    }
   ],
   "source": [
    "tokens = nltk.word_tokenize(ex)\n",
    "tokens[:10]"
   ]
  },
  {
   "cell_type": "code",
   "execution_count": 15,
   "id": "af64f0b1",
   "metadata": {},
   "outputs": [
    {
     "name": "stderr",
     "output_type": "stream",
     "text": [
      "[nltk_data] Downloading package words to /home/akhil/nltk_data...\n",
      "[nltk_data]   Unzipping corpora/words.zip.\n"
     ]
    },
    {
     "data": {
      "text/plain": [
       "True"
      ]
     },
     "execution_count": 15,
     "metadata": {},
     "output_type": "execute_result"
    }
   ],
   "source": [
    "#nltk.download('averaged_perceptron_tagger')\n",
    "#nltk.download('maxent_ne_chunker')\n",
    "nltk.download('words')"
   ]
  },
  {
   "cell_type": "code",
   "execution_count": 16,
   "id": "9f32df40",
   "metadata": {},
   "outputs": [],
   "source": [
    "tagged = nltk.pos_tag(tokens)"
   ]
  },
  {
   "cell_type": "code",
   "execution_count": 17,
   "id": "224c1ffe",
   "metadata": {},
   "outputs": [
    {
     "name": "stdout",
     "output_type": "stream",
     "text": [
      "(S\n",
      "  I/PRP\n",
      "  was/VBD\n",
      "  pleasantly/RB\n",
      "  surprised/VBN\n",
      "  that/IN\n",
      "  the/DT\n",
      "  airline/NN\n",
      "  could/MD\n",
      "  maintain/VB\n",
      "  a/DT\n",
      "  steady/JJ\n",
      "  schedule/NN\n",
      "  with/IN\n",
      "  little/JJ\n",
      "  delay/NN\n",
      "  considering/VBG\n",
      "  the/DT\n",
      "  time/NN\n",
      "  of/IN\n",
      "  the/DT\n",
      "  year/NN\n",
      "  and/CC\n",
      "  the/DT\n",
      "  weather/NN\n",
      "  ./.\n",
      "  The/DT\n",
      "  flight/NN\n",
      "  from/IN\n",
      "  (PERSON Montreal/NNP)\n",
      "  was/VBD\n",
      "  my/PRP$\n",
      "  return/NN\n",
      "  flight/NN\n",
      "  to/TO\n",
      "  (GPE Scotland/NNP)\n",
      "  ,/,\n",
      "  but/CC\n",
      "  I/PRP\n",
      "  originally/RB\n",
      "  booked/VBD\n",
      "  to/TO\n",
      "  fly/VB\n",
      "  to/TO\n",
      "  and/CC\n",
      "  from/IN\n",
      "  (GPE Toronto/NNP)\n",
      "  ,/,\n",
      "  but/CC\n",
      "  the/DT\n",
      "  airline/NN\n",
      "  helped/VBD\n",
      "  me/PRP\n",
      "  cancel/NN\n",
      "  and/CC\n",
      "  I/PRP\n",
      "  rebooked/VBD\n",
      "  for/IN\n",
      "  a/DT\n",
      "  cheaper/JJR\n",
      "  flight/NN\n",
      "  ./.\n",
      "  The/DT\n",
      "  inflight/JJ\n",
      "  service/NN\n",
      "  was/VBD\n",
      "  pretty/RB\n",
      "  decent/JJ\n",
      "  andthey/NN\n",
      "  do/VBP\n",
      "  offer/VB\n",
      "  a/DT\n",
      "  blanket/NN\n",
      "  and/CC\n",
      "  pillow/NN\n",
      "  ./.\n",
      "  As/IN\n",
      "  well/RB\n",
      "  they/PRP\n",
      "  walk/VBP\n",
      "  through/IN\n",
      "  the/DT\n",
      "  cabin/JJ\n",
      "  offering/NN\n",
      "  drinks/NNS\n",
      "  and/CC\n",
      "  handing/VBG\n",
      "  out/RP\n",
      "  a/DT\n",
      "  small/JJ\n",
      "  snack/NN\n",
      "  prior/RB\n",
      "  to/TO\n",
      "  the/DT\n",
      "  leading/VBG\n",
      "  meal/JJ\n",
      "  service/NN\n",
      "  ./.\n",
      "  While/IN\n",
      "  the/DT\n",
      "  food/NN\n",
      "  was/VBD\n",
      "  typical/JJ\n",
      "  air/NN\n",
      "  plane/NN\n",
      "  food/NN\n",
      "  ./.\n",
      "  I/PRP\n",
      "  thoroughly/RB\n",
      "  enjoyed/VBD\n",
      "  my/PRP$\n",
      "  flight/NN\n",
      "  and/CC\n",
      "  had/VBD\n",
      "  no/DT\n",
      "  issues/NNS\n",
      "  at/IN\n",
      "  all/DT\n",
      "  with/IN\n",
      "  my/PRP$\n",
      "  flights/NNS\n",
      "  ./.)\n"
     ]
    }
   ],
   "source": [
    "entities = nltk.chunk.ne_chunk(tagged)\n",
    "entities.pprint()"
   ]
  },
  {
   "cell_type": "markdown",
   "id": "8a5f51e6",
   "metadata": {},
   "source": [
    "# VADER Sentiment Score\n",
    "\n",
    "### Using the NLTK's Sentiment Intensity Analyser to  get the neg/neutral/pos scores of the text.\n"
   ]
  },
  {
   "cell_type": "markdown",
   "id": "c95645ff",
   "metadata": {},
   "source": [
    "- Uses a Bag of words approach\n",
    "    1. Stop words are removed\n",
    "    2. Each of is scored and combined to a total score"
   ]
  },
  {
   "cell_type": "code",
   "execution_count": 19,
   "id": "8ddf663e",
   "metadata": {},
   "outputs": [
    {
     "name": "stderr",
     "output_type": "stream",
     "text": [
      "[nltk_data] Downloading package vader_lexicon to\n",
      "[nltk_data]     /home/akhil/nltk_data...\n"
     ]
    }
   ],
   "source": [
    "from nltk.sentiment import SentimentIntensityAnalyzer\n",
    "from tqdm.notebook import tqdm\n",
    "nltk.download('vader_lexicon')\n",
    "\n",
    "sia = SentimentIntensityAnalyzer()"
   ]
  },
  {
   "cell_type": "code",
   "execution_count": 20,
   "id": "d940df9b",
   "metadata": {},
   "outputs": [
    {
     "data": {
      "text/plain": [
       "<nltk.sentiment.vader.SentimentIntensityAnalyzer at 0x7f2b66306070>"
      ]
     },
     "execution_count": 20,
     "metadata": {},
     "output_type": "execute_result"
    }
   ],
   "source": [
    "sia"
   ]
  },
  {
   "cell_type": "code",
   "execution_count": 24,
   "id": "d6b89e5f",
   "metadata": {},
   "outputs": [
    {
     "data": {
      "text/plain": [
       "{'neg': 0.057, 'neu': 0.814, 'pos': 0.129, 'compound': 0.8603}"
      ]
     },
     "execution_count": 24,
     "metadata": {},
     "output_type": "execute_result"
    }
   ],
   "source": [
    "sia.polarity_scores(ex)"
   ]
  },
  {
   "cell_type": "markdown",
   "id": "c5597a7e",
   "metadata": {},
   "source": [
    "### Running the polarity score on the entire data set"
   ]
  },
  {
   "cell_type": "code",
   "execution_count": 26,
   "id": "1eee461a",
   "metadata": {},
   "outputs": [
    {
     "data": {
      "application/vnd.jupyter.widget-view+json": {
       "model_id": "3b0325e1149642689dbf56f1b6ad44f9",
       "version_major": 2,
       "version_minor": 0
      },
      "text/plain": [
       "  0%|          | 0/998 [00:00<?, ?it/s]"
      ]
     },
     "metadata": {},
     "output_type": "display_data"
    }
   ],
   "source": [
    "res = {}\n",
    "for i, rows in tqdm(df.iterrows(), total = len(df)):\n",
    "    text = rows['Reviews']\n",
    "    res[i] = sia.polarity_scores(text)"
   ]
  },
  {
   "cell_type": "code",
   "execution_count": 30,
   "id": "b9c95234",
   "metadata": {},
   "outputs": [],
   "source": [
    "vaders = pd.DataFrame(res).T"
   ]
  },
  {
   "cell_type": "code",
   "execution_count": 31,
   "id": "5f5845cb",
   "metadata": {},
   "outputs": [
    {
     "data": {
      "text/html": [
       "<div>\n",
       "<style scoped>\n",
       "    .dataframe tbody tr th:only-of-type {\n",
       "        vertical-align: middle;\n",
       "    }\n",
       "\n",
       "    .dataframe tbody tr th {\n",
       "        vertical-align: top;\n",
       "    }\n",
       "\n",
       "    .dataframe thead th {\n",
       "        text-align: right;\n",
       "    }\n",
       "</style>\n",
       "<table border=\"1\" class=\"dataframe\">\n",
       "  <thead>\n",
       "    <tr style=\"text-align: right;\">\n",
       "      <th></th>\n",
       "      <th>neg</th>\n",
       "      <th>neu</th>\n",
       "      <th>pos</th>\n",
       "      <th>compound</th>\n",
       "    </tr>\n",
       "  </thead>\n",
       "  <tbody>\n",
       "    <tr>\n",
       "      <th>0</th>\n",
       "      <td>0.057</td>\n",
       "      <td>0.814</td>\n",
       "      <td>0.129</td>\n",
       "      <td>0.8603</td>\n",
       "    </tr>\n",
       "    <tr>\n",
       "      <th>1</th>\n",
       "      <td>0.000</td>\n",
       "      <td>1.000</td>\n",
       "      <td>0.000</td>\n",
       "      <td>0.0000</td>\n",
       "    </tr>\n",
       "    <tr>\n",
       "      <th>2</th>\n",
       "      <td>0.059</td>\n",
       "      <td>0.842</td>\n",
       "      <td>0.099</td>\n",
       "      <td>0.7420</td>\n",
       "    </tr>\n",
       "    <tr>\n",
       "      <th>3</th>\n",
       "      <td>0.116</td>\n",
       "      <td>0.855</td>\n",
       "      <td>0.030</td>\n",
       "      <td>-0.9462</td>\n",
       "    </tr>\n",
       "    <tr>\n",
       "      <th>4</th>\n",
       "      <td>0.082</td>\n",
       "      <td>0.861</td>\n",
       "      <td>0.057</td>\n",
       "      <td>-0.7687</td>\n",
       "    </tr>\n",
       "  </tbody>\n",
       "</table>\n",
       "</div>"
      ],
      "text/plain": [
       "     neg    neu    pos  compound\n",
       "0  0.057  0.814  0.129    0.8603\n",
       "1  0.000  1.000  0.000    0.0000\n",
       "2  0.059  0.842  0.099    0.7420\n",
       "3  0.116  0.855  0.030   -0.9462\n",
       "4  0.082  0.861  0.057   -0.7687"
      ]
     },
     "execution_count": 31,
     "metadata": {},
     "output_type": "execute_result"
    }
   ],
   "source": [
    "vaders.head()"
   ]
  },
  {
   "cell_type": "code",
   "execution_count": 32,
   "id": "af20043e",
   "metadata": {},
   "outputs": [],
   "source": [
    "vaders = vaders.reset_index().rename(columns = {'index':'Id'})"
   ]
  },
  {
   "cell_type": "code",
   "execution_count": 33,
   "id": "d3a3a9c4",
   "metadata": {},
   "outputs": [
    {
     "data": {
      "text/html": [
       "<div>\n",
       "<style scoped>\n",
       "    .dataframe tbody tr th:only-of-type {\n",
       "        vertical-align: middle;\n",
       "    }\n",
       "\n",
       "    .dataframe tbody tr th {\n",
       "        vertical-align: top;\n",
       "    }\n",
       "\n",
       "    .dataframe thead th {\n",
       "        text-align: right;\n",
       "    }\n",
       "</style>\n",
       "<table border=\"1\" class=\"dataframe\">\n",
       "  <thead>\n",
       "    <tr style=\"text-align: right;\">\n",
       "      <th></th>\n",
       "      <th>Id</th>\n",
       "      <th>neg</th>\n",
       "      <th>neu</th>\n",
       "      <th>pos</th>\n",
       "      <th>compound</th>\n",
       "    </tr>\n",
       "  </thead>\n",
       "  <tbody>\n",
       "    <tr>\n",
       "      <th>0</th>\n",
       "      <td>0</td>\n",
       "      <td>0.057</td>\n",
       "      <td>0.814</td>\n",
       "      <td>0.129</td>\n",
       "      <td>0.8603</td>\n",
       "    </tr>\n",
       "    <tr>\n",
       "      <th>1</th>\n",
       "      <td>1</td>\n",
       "      <td>0.000</td>\n",
       "      <td>1.000</td>\n",
       "      <td>0.000</td>\n",
       "      <td>0.0000</td>\n",
       "    </tr>\n",
       "    <tr>\n",
       "      <th>2</th>\n",
       "      <td>2</td>\n",
       "      <td>0.059</td>\n",
       "      <td>0.842</td>\n",
       "      <td>0.099</td>\n",
       "      <td>0.7420</td>\n",
       "    </tr>\n",
       "    <tr>\n",
       "      <th>3</th>\n",
       "      <td>3</td>\n",
       "      <td>0.116</td>\n",
       "      <td>0.855</td>\n",
       "      <td>0.030</td>\n",
       "      <td>-0.9462</td>\n",
       "    </tr>\n",
       "    <tr>\n",
       "      <th>4</th>\n",
       "      <td>4</td>\n",
       "      <td>0.082</td>\n",
       "      <td>0.861</td>\n",
       "      <td>0.057</td>\n",
       "      <td>-0.7687</td>\n",
       "    </tr>\n",
       "  </tbody>\n",
       "</table>\n",
       "</div>"
      ],
      "text/plain": [
       "   Id    neg    neu    pos  compound\n",
       "0   0  0.057  0.814  0.129    0.8603\n",
       "1   1  0.000  1.000  0.000    0.0000\n",
       "2   2  0.059  0.842  0.099    0.7420\n",
       "3   3  0.116  0.855  0.030   -0.9462\n",
       "4   4  0.082  0.861  0.057   -0.7687"
      ]
     },
     "execution_count": 33,
     "metadata": {},
     "output_type": "execute_result"
    }
   ],
   "source": [
    "vaders.head()"
   ]
  },
  {
   "cell_type": "code",
   "execution_count": 35,
   "id": "cb3212db",
   "metadata": {},
   "outputs": [
    {
     "data": {
      "text/plain": [
       "(998, 5)"
      ]
     },
     "execution_count": 35,
     "metadata": {},
     "output_type": "execute_result"
    }
   ],
   "source": [
    "vaders.shape"
   ]
  },
  {
   "cell_type": "code",
   "execution_count": 36,
   "id": "69b2fb46",
   "metadata": {},
   "outputs": [
    {
     "data": {
      "text/plain": [
       "(998, 1)"
      ]
     },
     "execution_count": 36,
     "metadata": {},
     "output_type": "execute_result"
    }
   ],
   "source": [
    "df.shape"
   ]
  },
  {
   "cell_type": "code",
   "execution_count": 37,
   "id": "b287e5e9",
   "metadata": {},
   "outputs": [],
   "source": [
    "df=df.reset_index().rename(columns={'index':'Id'})"
   ]
  },
  {
   "cell_type": "code",
   "execution_count": 38,
   "id": "e5304534",
   "metadata": {},
   "outputs": [
    {
     "data": {
      "text/html": [
       "<div>\n",
       "<style scoped>\n",
       "    .dataframe tbody tr th:only-of-type {\n",
       "        vertical-align: middle;\n",
       "    }\n",
       "\n",
       "    .dataframe tbody tr th {\n",
       "        vertical-align: top;\n",
       "    }\n",
       "\n",
       "    .dataframe thead th {\n",
       "        text-align: right;\n",
       "    }\n",
       "</style>\n",
       "<table border=\"1\" class=\"dataframe\">\n",
       "  <thead>\n",
       "    <tr style=\"text-align: right;\">\n",
       "      <th></th>\n",
       "      <th>Id</th>\n",
       "      <th>Reviews</th>\n",
       "    </tr>\n",
       "  </thead>\n",
       "  <tbody>\n",
       "    <tr>\n",
       "      <th>0</th>\n",
       "      <td>0</td>\n",
       "      <td>I was pleasantly surprised that the airline ...</td>\n",
       "    </tr>\n",
       "    <tr>\n",
       "      <th>1</th>\n",
       "      <td>1</td>\n",
       "      <td>British Airways is late, their website is at...</td>\n",
       "    </tr>\n",
       "    <tr>\n",
       "      <th>2</th>\n",
       "      <td>2</td>\n",
       "      <td>Flew from Amman to London on Nov. 14 2022. No...</td>\n",
       "    </tr>\n",
       "    <tr>\n",
       "      <th>3</th>\n",
       "      <td>3</td>\n",
       "      <td>This is the worst experience I have ever had ...</td>\n",
       "    </tr>\n",
       "    <tr>\n",
       "      <th>4</th>\n",
       "      <td>4</td>\n",
       "      <td>Flying LHR T5 to CPT November 2022:  BA app ...</td>\n",
       "    </tr>\n",
       "  </tbody>\n",
       "</table>\n",
       "</div>"
      ],
      "text/plain": [
       "   Id                                            Reviews\n",
       "0   0    I was pleasantly surprised that the airline ...\n",
       "1   1    British Airways is late, their website is at...\n",
       "2   2   Flew from Amman to London on Nov. 14 2022. No...\n",
       "3   3   This is the worst experience I have ever had ...\n",
       "4   4    Flying LHR T5 to CPT November 2022:  BA app ..."
      ]
     },
     "execution_count": 38,
     "metadata": {},
     "output_type": "execute_result"
    }
   ],
   "source": [
    "df.head()"
   ]
  },
  {
   "cell_type": "code",
   "execution_count": 39,
   "id": "82304c20",
   "metadata": {},
   "outputs": [],
   "source": [
    "vaders = vaders.merge(df, how = 'left')"
   ]
  },
  {
   "cell_type": "code",
   "execution_count": 40,
   "id": "7e65e12c",
   "metadata": {},
   "outputs": [
    {
     "data": {
      "text/html": [
       "<div>\n",
       "<style scoped>\n",
       "    .dataframe tbody tr th:only-of-type {\n",
       "        vertical-align: middle;\n",
       "    }\n",
       "\n",
       "    .dataframe tbody tr th {\n",
       "        vertical-align: top;\n",
       "    }\n",
       "\n",
       "    .dataframe thead th {\n",
       "        text-align: right;\n",
       "    }\n",
       "</style>\n",
       "<table border=\"1\" class=\"dataframe\">\n",
       "  <thead>\n",
       "    <tr style=\"text-align: right;\">\n",
       "      <th></th>\n",
       "      <th>Id</th>\n",
       "      <th>neg</th>\n",
       "      <th>neu</th>\n",
       "      <th>pos</th>\n",
       "      <th>compound</th>\n",
       "      <th>Reviews</th>\n",
       "    </tr>\n",
       "  </thead>\n",
       "  <tbody>\n",
       "    <tr>\n",
       "      <th>0</th>\n",
       "      <td>0</td>\n",
       "      <td>0.057</td>\n",
       "      <td>0.814</td>\n",
       "      <td>0.129</td>\n",
       "      <td>0.8603</td>\n",
       "      <td>I was pleasantly surprised that the airline ...</td>\n",
       "    </tr>\n",
       "    <tr>\n",
       "      <th>1</th>\n",
       "      <td>1</td>\n",
       "      <td>0.000</td>\n",
       "      <td>1.000</td>\n",
       "      <td>0.000</td>\n",
       "      <td>0.0000</td>\n",
       "      <td>British Airways is late, their website is at...</td>\n",
       "    </tr>\n",
       "    <tr>\n",
       "      <th>2</th>\n",
       "      <td>2</td>\n",
       "      <td>0.059</td>\n",
       "      <td>0.842</td>\n",
       "      <td>0.099</td>\n",
       "      <td>0.7420</td>\n",
       "      <td>Flew from Amman to London on Nov. 14 2022. No...</td>\n",
       "    </tr>\n",
       "    <tr>\n",
       "      <th>3</th>\n",
       "      <td>3</td>\n",
       "      <td>0.116</td>\n",
       "      <td>0.855</td>\n",
       "      <td>0.030</td>\n",
       "      <td>-0.9462</td>\n",
       "      <td>This is the worst experience I have ever had ...</td>\n",
       "    </tr>\n",
       "    <tr>\n",
       "      <th>4</th>\n",
       "      <td>4</td>\n",
       "      <td>0.082</td>\n",
       "      <td>0.861</td>\n",
       "      <td>0.057</td>\n",
       "      <td>-0.7687</td>\n",
       "      <td>Flying LHR T5 to CPT November 2022:  BA app ...</td>\n",
       "    </tr>\n",
       "  </tbody>\n",
       "</table>\n",
       "</div>"
      ],
      "text/plain": [
       "   Id    neg    neu    pos  compound  \\\n",
       "0   0  0.057  0.814  0.129    0.8603   \n",
       "1   1  0.000  1.000  0.000    0.0000   \n",
       "2   2  0.059  0.842  0.099    0.7420   \n",
       "3   3  0.116  0.855  0.030   -0.9462   \n",
       "4   4  0.082  0.861  0.057   -0.7687   \n",
       "\n",
       "                                             Reviews  \n",
       "0    I was pleasantly surprised that the airline ...  \n",
       "1    British Airways is late, their website is at...  \n",
       "2   Flew from Amman to London on Nov. 14 2022. No...  \n",
       "3   This is the worst experience I have ever had ...  \n",
       "4    Flying LHR T5 to CPT November 2022:  BA app ...  "
      ]
     },
     "execution_count": 40,
     "metadata": {},
     "output_type": "execute_result"
    }
   ],
   "source": [
    "vaders.head()"
   ]
  },
  {
   "cell_type": "markdown",
   "id": "357b0fbb",
   "metadata": {},
   "source": [
    "Now we have sentiment score and meta data"
   ]
  },
  {
   "cell_type": "code",
   "execution_count": 41,
   "id": "1a5aade6",
   "metadata": {},
   "outputs": [
    {
     "data": {
      "text/html": [
       "<div>\n",
       "<style scoped>\n",
       "    .dataframe tbody tr th:only-of-type {\n",
       "        vertical-align: middle;\n",
       "    }\n",
       "\n",
       "    .dataframe tbody tr th {\n",
       "        vertical-align: top;\n",
       "    }\n",
       "\n",
       "    .dataframe thead th {\n",
       "        text-align: right;\n",
       "    }\n",
       "</style>\n",
       "<table border=\"1\" class=\"dataframe\">\n",
       "  <thead>\n",
       "    <tr style=\"text-align: right;\">\n",
       "      <th></th>\n",
       "      <th>Id</th>\n",
       "      <th>neg</th>\n",
       "      <th>neu</th>\n",
       "      <th>pos</th>\n",
       "      <th>compound</th>\n",
       "    </tr>\n",
       "  </thead>\n",
       "  <tbody>\n",
       "    <tr>\n",
       "      <th>count</th>\n",
       "      <td>998.000000</td>\n",
       "      <td>998.000000</td>\n",
       "      <td>998.000000</td>\n",
       "      <td>998.000000</td>\n",
       "      <td>998.000000</td>\n",
       "    </tr>\n",
       "    <tr>\n",
       "      <th>mean</th>\n",
       "      <td>498.500000</td>\n",
       "      <td>0.080191</td>\n",
       "      <td>0.808987</td>\n",
       "      <td>0.110838</td>\n",
       "      <td>0.116916</td>\n",
       "    </tr>\n",
       "    <tr>\n",
       "      <th>std</th>\n",
       "      <td>288.242086</td>\n",
       "      <td>0.058425</td>\n",
       "      <td>0.081046</td>\n",
       "      <td>0.090563</td>\n",
       "      <td>0.780544</td>\n",
       "    </tr>\n",
       "    <tr>\n",
       "      <th>min</th>\n",
       "      <td>0.000000</td>\n",
       "      <td>0.000000</td>\n",
       "      <td>0.436000</td>\n",
       "      <td>0.000000</td>\n",
       "      <td>-0.997400</td>\n",
       "    </tr>\n",
       "    <tr>\n",
       "      <th>25%</th>\n",
       "      <td>249.250000</td>\n",
       "      <td>0.038000</td>\n",
       "      <td>0.766250</td>\n",
       "      <td>0.046000</td>\n",
       "      <td>-0.760075</td>\n",
       "    </tr>\n",
       "    <tr>\n",
       "      <th>50%</th>\n",
       "      <td>498.500000</td>\n",
       "      <td>0.071000</td>\n",
       "      <td>0.816500</td>\n",
       "      <td>0.086500</td>\n",
       "      <td>0.318200</td>\n",
       "    </tr>\n",
       "    <tr>\n",
       "      <th>75%</th>\n",
       "      <td>747.750000</td>\n",
       "      <td>0.112000</td>\n",
       "      <td>0.865000</td>\n",
       "      <td>0.155000</td>\n",
       "      <td>0.924575</td>\n",
       "    </tr>\n",
       "    <tr>\n",
       "      <th>max</th>\n",
       "      <td>997.000000</td>\n",
       "      <td>0.348000</td>\n",
       "      <td>1.000000</td>\n",
       "      <td>0.490000</td>\n",
       "      <td>0.999200</td>\n",
       "    </tr>\n",
       "  </tbody>\n",
       "</table>\n",
       "</div>"
      ],
      "text/plain": [
       "               Id         neg         neu         pos    compound\n",
       "count  998.000000  998.000000  998.000000  998.000000  998.000000\n",
       "mean   498.500000    0.080191    0.808987    0.110838    0.116916\n",
       "std    288.242086    0.058425    0.081046    0.090563    0.780544\n",
       "min      0.000000    0.000000    0.436000    0.000000   -0.997400\n",
       "25%    249.250000    0.038000    0.766250    0.046000   -0.760075\n",
       "50%    498.500000    0.071000    0.816500    0.086500    0.318200\n",
       "75%    747.750000    0.112000    0.865000    0.155000    0.924575\n",
       "max    997.000000    0.348000    1.000000    0.490000    0.999200"
      ]
     },
     "execution_count": 41,
     "metadata": {},
     "output_type": "execute_result"
    }
   ],
   "source": [
    "vaders.describe()"
   ]
  },
  {
   "cell_type": "code",
   "execution_count": 70,
   "id": "31c9b9ee",
   "metadata": {},
   "outputs": [
    {
     "data": {
      "text/html": [
       "<div>\n",
       "<style scoped>\n",
       "    .dataframe tbody tr th:only-of-type {\n",
       "        vertical-align: middle;\n",
       "    }\n",
       "\n",
       "    .dataframe tbody tr th {\n",
       "        vertical-align: top;\n",
       "    }\n",
       "\n",
       "    .dataframe thead th {\n",
       "        text-align: right;\n",
       "    }\n",
       "</style>\n",
       "<table border=\"1\" class=\"dataframe\">\n",
       "  <thead>\n",
       "    <tr style=\"text-align: right;\">\n",
       "      <th></th>\n",
       "      <th>Id</th>\n",
       "      <th>neg</th>\n",
       "      <th>neu</th>\n",
       "      <th>pos</th>\n",
       "      <th>compound</th>\n",
       "      <th>Reviews</th>\n",
       "    </tr>\n",
       "  </thead>\n",
       "  <tbody>\n",
       "    <tr>\n",
       "      <th>0</th>\n",
       "      <td>0</td>\n",
       "      <td>0.057</td>\n",
       "      <td>0.814</td>\n",
       "      <td>0.129</td>\n",
       "      <td>0.8603</td>\n",
       "      <td>I was pleasantly surprised that the airline ...</td>\n",
       "    </tr>\n",
       "    <tr>\n",
       "      <th>1</th>\n",
       "      <td>1</td>\n",
       "      <td>0.000</td>\n",
       "      <td>1.000</td>\n",
       "      <td>0.000</td>\n",
       "      <td>0.0000</td>\n",
       "      <td>British Airways is late, their website is at...</td>\n",
       "    </tr>\n",
       "    <tr>\n",
       "      <th>2</th>\n",
       "      <td>2</td>\n",
       "      <td>0.059</td>\n",
       "      <td>0.842</td>\n",
       "      <td>0.099</td>\n",
       "      <td>0.7420</td>\n",
       "      <td>Flew from Amman to London on Nov. 14 2022. No...</td>\n",
       "    </tr>\n",
       "    <tr>\n",
       "      <th>3</th>\n",
       "      <td>3</td>\n",
       "      <td>0.116</td>\n",
       "      <td>0.855</td>\n",
       "      <td>0.030</td>\n",
       "      <td>-0.9462</td>\n",
       "      <td>This is the worst experience I have ever had ...</td>\n",
       "    </tr>\n",
       "    <tr>\n",
       "      <th>4</th>\n",
       "      <td>4</td>\n",
       "      <td>0.082</td>\n",
       "      <td>0.861</td>\n",
       "      <td>0.057</td>\n",
       "      <td>-0.7687</td>\n",
       "      <td>Flying LHR T5 to CPT November 2022:  BA app ...</td>\n",
       "    </tr>\n",
       "  </tbody>\n",
       "</table>\n",
       "</div>"
      ],
      "text/plain": [
       "   Id    neg    neu    pos  compound  \\\n",
       "0   0  0.057  0.814  0.129    0.8603   \n",
       "1   1  0.000  1.000  0.000    0.0000   \n",
       "2   2  0.059  0.842  0.099    0.7420   \n",
       "3   3  0.116  0.855  0.030   -0.9462   \n",
       "4   4  0.082  0.861  0.057   -0.7687   \n",
       "\n",
       "                                             Reviews  \n",
       "0    I was pleasantly surprised that the airline ...  \n",
       "1    British Airways is late, their website is at...  \n",
       "2   Flew from Amman to London on Nov. 14 2022. No...  \n",
       "3   This is the worst experience I have ever had ...  \n",
       "4    Flying LHR T5 to CPT November 2022:  BA app ...  "
      ]
     },
     "execution_count": 70,
     "metadata": {},
     "output_type": "execute_result"
    }
   ],
   "source": [
    "vaders.head()"
   ]
  },
  {
   "cell_type": "code",
   "execution_count": 69,
   "id": "2aa3e672",
   "metadata": {},
   "outputs": [],
   "source": [
    "vaders=vaders.drop('sentimet',axis=1)"
   ]
  },
  {
   "cell_type": "code",
   "execution_count": 71,
   "id": "bb3af218",
   "metadata": {},
   "outputs": [
    {
     "data": {
      "text/plain": [
       "0.8603"
      ]
     },
     "execution_count": 71,
     "metadata": {},
     "output_type": "execute_result"
    }
   ],
   "source": [
    "vaders['compound'][0]"
   ]
  },
  {
   "cell_type": "code",
   "execution_count": 75,
   "id": "26b4052d",
   "metadata": {},
   "outputs": [
    {
     "name": "stderr",
     "output_type": "stream",
     "text": [
      "/tmp/ipykernel_13598/1279617747.py:3: SettingWithCopyWarning: \n",
      "A value is trying to be set on a copy of a slice from a DataFrame\n",
      "\n",
      "See the caveats in the documentation: https://pandas.pydata.org/pandas-docs/stable/user_guide/indexing.html#returning-a-view-versus-a-copy\n",
      "  vaders['sentiment'][i]= 'happy'\n",
      "/tmp/ipykernel_13598/1279617747.py:7: SettingWithCopyWarning: \n",
      "A value is trying to be set on a copy of a slice from a DataFrame\n",
      "\n",
      "See the caveats in the documentation: https://pandas.pydata.org/pandas-docs/stable/user_guide/indexing.html#returning-a-view-versus-a-copy\n",
      "  vaders['sentiment'][i] = 'neutral'\n",
      "/tmp/ipykernel_13598/1279617747.py:5: SettingWithCopyWarning: \n",
      "A value is trying to be set on a copy of a slice from a DataFrame\n",
      "\n",
      "See the caveats in the documentation: https://pandas.pydata.org/pandas-docs/stable/user_guide/indexing.html#returning-a-view-versus-a-copy\n",
      "  vaders['sentiment'][i]= 'not happy'\n"
     ]
    }
   ],
   "source": [
    "for i in range(len(vaders)):\n",
    "    if(vaders['compound'][i]>0.05):\n",
    "        vaders['sentiment'][i]= 'happy'\n",
    "    elif(vaders['compound'][i]<-0.05):\n",
    "        vaders['sentiment'][i]= 'not happy'\n",
    "    else:\n",
    "        vaders['sentiment'][i] = 'neutral'"
   ]
  },
  {
   "cell_type": "code",
   "execution_count": 94,
   "id": "b92407ea",
   "metadata": {},
   "outputs": [
    {
     "data": {
      "text/plain": [
       "(998, 7)"
      ]
     },
     "execution_count": 94,
     "metadata": {},
     "output_type": "execute_result"
    }
   ],
   "source": [
    "vaders.shape"
   ]
  },
  {
   "cell_type": "code",
   "execution_count": 93,
   "id": "26f5c764",
   "metadata": {},
   "outputs": [
    {
     "data": {
      "text/plain": [
       "Id           16\n",
       "neg          16\n",
       "neu          16\n",
       "pos          16\n",
       "compound     16\n",
       "Reviews      16\n",
       "sentiment    16\n",
       "dtype: int64"
      ]
     },
     "execution_count": 93,
     "metadata": {},
     "output_type": "execute_result"
    }
   ],
   "source": [
    "vaders[vaders['sentiment']=='neutral'].count()"
   ]
  },
  {
   "cell_type": "code",
   "execution_count": 91,
   "id": "47ddcfd3",
   "metadata": {},
   "outputs": [
    {
     "data": {
      "text/plain": [
       "<AxesSubplot:xlabel='sentiment', ylabel='count'>"
      ]
     },
     "execution_count": 91,
     "metadata": {},
     "output_type": "execute_result"
    },
    {
     "data": {
      "image/png": "[encoded data removed]",
      "text/plain": [
       "<Figure size 432x288 with 1 Axes>"
      ]
     },
     "metadata": {},
     "output_type": "display_data"
    }
   ],
   "source": [
    "sns.countplot(data=vaders, x='sentiment')\n"
   ]
  },
  {
   "cell_type": "code",
   "execution_count": null,
   "id": "94bc75ea",
   "metadata": {},
   "outputs": [],
   "source": []
  }
 ],
 "metadata": {
  "kernelspec": {
   "display_name": "Python 3 (ipykernel)",
   "language": "python",
   "name": "python3"
  },
  "language_info": {
   "codemirror_mode": {
    "name": "ipython",
    "version": 3
   },
   "file_extension": ".py",
   "mimetype": "text/x-python",
   "name": "python",
   "nbconvert_exporter": "python",
   "pygments_lexer": "ipython3",
   "version": "3.9.7"
  }
 },
 "nbformat": 4,
 "nbformat_minor": 5
}
